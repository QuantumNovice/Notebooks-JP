{
 "cells": [
  {
   "cell_type": "markdown",
   "metadata": {},
   "source": [
    "# String Formatting"
   ]
  },
  {
   "cell_type": "markdown",
   "metadata": {},
   "source": [
    "Set variable user to string \"Alice\".<br>\n",
    "Set variable salary to float \"200.25\"."
   ]
  },
  {
   "cell_type": "code",
   "execution_count": 6,
   "metadata": {},
   "outputs": [],
   "source": [
    "user = 'Alice'\n",
    "salary = 200.25"
   ]
  },
  {
   "cell_type": "markdown",
   "metadata": {},
   "source": [
    "### 1) C Style String Formatting <br>\n",
    "In this type of formatting the position of variable inside a string is marked by <span style=\"color:blue\">%X</span> where X is the data type of the operator. \n",
    "The character followed by % indicates the data type.<br>\n",
    "<span style=\"color:green\">%s </span> -> string<br>\n",
    "<span style=\"color:green\">%f </span>-> float<br>\n",
    "<span style=\"color:green\">%d </span>-> Integer (digit)<br>"
   ]
  },
  {
   "cell_type": "markdown",
   "metadata": {},
   "source": [
    "Since the variable user is a string we specify <span style=\"color:green\">%s</span>.<br>"
   ]
  },
  {
   "cell_type": "code",
   "execution_count": 23,
   "metadata": {},
   "outputs": [
    {
     "name": "stdout",
     "output_type": "stream",
     "text": [
      "Hello, Alice\n"
     ]
    }
   ],
   "source": [
    "print('Hello, %s' %user)"
   ]
  },
  {
   "cell_type": "markdown",
   "metadata": {},
   "source": [
    "Since variable  <span style=\"color:blue\">salary</span> is a float we specified its position with <span style=\"color:green\">%f</span>."
   ]
  },
  {
   "cell_type": "code",
   "execution_count": 24,
   "metadata": {},
   "outputs": [
    {
     "name": "stdout",
     "output_type": "stream",
     "text": [
      "Your salary is 200.250000\n"
     ]
    }
   ],
   "source": [
    "print('Your salary is %f' %salary)"
   ]
  },
  {
   "cell_type": "markdown",
   "metadata": {},
   "source": [
    "Floats can be converted to  <span style=\"color:green\">int</span> or \n",
    "<span style=\"color:green\">str</span> by using <span style=\"color:green\">%d</span> or <span style=\"color:green\">%f</span>"
   ]
  },
  {
   "cell_type": "code",
   "execution_count": 28,
   "metadata": {},
   "outputs": [
    {
     "name": "stdout",
     "output_type": "stream",
     "text": [
      "Your salary is 200\n",
      "Your salary is 200.25\n"
     ]
    }
   ],
   "source": [
    "print('Your salary is %d' %salary)\n",
    "print('Your salary is %s' %salary)"
   ]
  },
  {
   "cell_type": "markdown",
   "metadata": {},
   "source": [
    "#### Note:\n",
    "If wrong data type is specified python will automatically convert it.<br>\n",
    " <span style=\"color:blue\">\n",
    "    This code will raise error as <span style=\"color:green\">str</span> can't be converted to <span style=\"color:green\">int</span> directly.\n",
    "    </span>"
   ]
  },
  {
   "cell_type": "code",
   "execution_count": 21,
   "metadata": {
    "collapsed": true
   },
   "outputs": [
    {
     "ename": "TypeError",
     "evalue": "%d format: a number is required, not str",
     "output_type": "error",
     "traceback": [
      "\u001b[1;31m-----------------------------------------------------------------\u001b[0m",
      "\u001b[1;31mTypeError\u001b[0m                       Traceback (most recent call last)",
      "\u001b[1;32m<ipython-input-21-6c63a23f0284>\u001b[0m in \u001b[0;36m<module>\u001b[1;34m\u001b[0m\n\u001b[1;32m----> 1\u001b[1;33m \u001b[0mprint\u001b[0m\u001b[1;33m(\u001b[0m\u001b[1;34m'Hello, %d'\u001b[0m \u001b[1;33m%\u001b[0m\u001b[1;34m'0'\u001b[0m\u001b[1;33m)\u001b[0m\u001b[1;33m\u001b[0m\u001b[0m\n\u001b[0m",
      "\u001b[1;31mTypeError\u001b[0m: %d format: a number is required, not str"
     ]
    }
   ],
   "source": [
    "print('Hello, %d' %user)"
   ]
  },
  {
   "cell_type": "markdown",
   "metadata": {},
   "source": [
    "##### Multiple Variables in a sentence"
   ]
  },
  {
   "cell_type": "code",
   "execution_count": null,
   "metadata": {},
   "outputs": [],
   "source": [
    "print('%s\\'s salary is %d.' %(user, salary))"
   ]
  },
  {
   "cell_type": "markdown",
   "metadata": {},
   "source": [
    "#### Rounding off floats\n",
    "<span style=\"color:green\">%.Nf</span><br>\n",
    "where N is the number of decimal places required."
   ]
  },
  {
   "cell_type": "code",
   "execution_count": 44,
   "metadata": {},
   "outputs": [
    {
     "name": "stdout",
     "output_type": "stream",
     "text": [
      "Alice's salary is 200.250000\n",
      "Alice's salary is 200.2\n"
     ]
    }
   ],
   "source": [
    "print('%s\\'s salary is %f' %(user, salary))\n",
    "print('%s\\'s salary is %.1f' %(user, salary))"
   ]
  },
  {
   "cell_type": "markdown",
   "metadata": {},
   "source": [
    "##### Dynamic Variable Type Formatting"
   ]
  },
  {
   "cell_type": "code",
   "execution_count": null,
   "metadata": {},
   "outputs": [],
   "source": [
    "#### ... continued"
   ]
  }
 ],
 "metadata": {
  "kernelspec": {
   "display_name": "Python 3",
   "language": "python",
   "name": "python3"
  },
  "language_info": {
   "codemirror_mode": {
    "name": "ipython",
    "version": 3
   },
   "file_extension": ".py",
   "mimetype": "text/x-python",
   "name": "python",
   "nbconvert_exporter": "python",
   "pygments_lexer": "ipython3",
   "version": "3.6.3"
  }
 },
 "nbformat": 4,
 "nbformat_minor": 2
}
